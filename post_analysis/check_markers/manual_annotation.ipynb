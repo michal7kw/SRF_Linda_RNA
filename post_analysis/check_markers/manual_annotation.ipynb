{
  "cells": [
    {
      "cell_type": "code",
      "metadata": {},
      "source": [
        "import scanpy as sc\n",
        "import numpy as np\n",
        "import pandas as pd\n",
        "import matplotlib.pyplot as plt\n",
        "import os\n",
        "import sys\n",
        "import anndata as ad\n",
        "import requests\n",
        "import urllib.request\n",
        "import warnings\n",
        "\n",
        "WORKING_DIR = \"/beegfs/scratch/ric.broccoli/kubacki.michal/SRF_Linda_RNA/post_analysis/check_markers\"\n",
        "os.chdir(WORKING_DIR)\n",
        "sys.path.append(WORKING_DIR)\n",
        "\n",
        "from functions import *\n",
        "\n",
        "# This will be added by the parameterized notebook script:\n",
        "# OUTPUT_DIR = os.path.join(WORKING_DIR, \"results\", \"MODEL_TYPE\", \"SAMPLE_PLACEHOLDER\")\n",
        "# os.makedirs(OUTPUT_DIR, exist_ok=True)\n",
        "\n",
        "# %% [markdown]\n",
        "# # Define gene sets"
      ],
      "outputs": [],
      "execution_count": null
    },
    {
      "cell_type": "code",
      "metadata": {},
      "source": [
        "gene_list = pd.read_csv(\"FirstLevelGeneList.csv\")\n",
        "gene_list\n",
        "\n",
        "# %% [markdown]\n",
        "# # Load data"
      ],
      "outputs": [],
      "execution_count": null
    },
    {
      "cell_type": "code",
      "metadata": {},
      "source": [
        "# DATA dirs\n",
        "\n",
        "# This cell will be parameterized by the script\n",
        "SAMPLE_NAME = \"SAMPLE_PLACEHOLDER\"  # This will be replaced with the actual sample name\n",
        "# SAMPLE_NAME = \"Emx1_Ctrl\"\n",
        "print(f\"Processing sample: {SAMPLE_NAME}\")\n",
        "\n",
        "# This cell will be parameterized by the script\n",
        "MODEL_TYPE = \"MODEL_TYPE\"  # This will be replaced with the actual model type\n",
        "# MODEL_TYPE = \"Dentate_Gyrus\"\n",
        "print(f\"Processing model: {MODEL_TYPE}\")"
      ],
      "outputs": [],
      "execution_count": null
    },
    {
      "cell_type": "code",
      "metadata": {},
      "source": [
        "data_path = f\"/beegfs/scratch/ric.broccoli/kubacki.michal/SRF_Linda_RNA/post_analysis/cell_typist/results_{MODEL_TYPE}\"\n",
        "\n",
        "adata_paths = {\n",
        "    \"Emx1_Ctrl\": f\"{data_path}/Emx1_Ctrl_annotated.h5ad\",\n",
        "    \"Emx1_Mut\": f\"{data_path}/Emx1_Mut_annotated.h5ad\",\n",
        "    \"Nestin_Ctrl\": f\"{data_path}/Nestin_Ctrl_annotated.h5ad\",\n",
        "    \"Nestin_Mut\": f\"{data_path}/Nestin_Mut_annotated.h5ad\"\n",
        "}\n",
        "\n",
        "# Load AnnData objects into a dictionary\n",
        "# adata_dict = {}\n",
        "# for key, path in adata_paths.items():\n",
        "#     print(f\"Loading AnnData from {path}\")\n",
        "#     adata_dict[key] = sc.read_h5ad(path)\n",
        "#     print(f\"AnnData object {key} contains {adata_dict[key].n_obs} cells and {adata_dict[key].n_vars} genes\")"
      ],
      "outputs": [],
      "execution_count": null
    },
    {
      "cell_type": "code",
      "metadata": {},
      "source": [
        "adata = sc.read_h5ad(adata_paths[SAMPLE_NAME])"
      ],
      "outputs": [],
      "execution_count": null
    },
    {
      "cell_type": "code",
      "metadata": {},
      "source": [
        "adata\n",
        "\n",
        "# %% [markdown]\n",
        "# # Check Biomarkers"
      ],
      "outputs": [],
      "execution_count": null
    },
    {
      "cell_type": "code",
      "metadata": {},
      "source": [
        "with pd.option_context(\"display.max_columns\", None):\n",
        "    adata.obs.head()"
      ],
      "outputs": [],
      "execution_count": null
    },
    {
      "cell_type": "code",
      "metadata": {},
      "source": [
        "# Save the UMAP plot to the output directory\n",
        "fig, axs = plt.subplots(1, 3, figsize=(18, 6))\n",
        "\n",
        "# prob_conf_score - use a sequential colormap (Reds)\n",
        "sc.pl.umap(adata, color='prob_conf_score', ax=axs[0], show=False, cmap='Reds', title='Confidence Score')\n",
        "\n",
        "# leiden_0.38 - use a categorical palette\n",
        "sc.pl.umap(adata, color='leiden_0.38', ax=axs[1], show=False, palette='tab20', title='Leiden Clusters')\n",
        "\n",
        "# majority_voting - use a categorical palette\n",
        "sc.pl.umap(adata, color='majority_voting', ax=axs[2], show=False, palette='tab20', title='Cell Types')\n",
        "\n",
        "plt.tight_layout()\n",
        "plt.savefig(os.path.join(OUTPUT_DIR, f\"{SAMPLE_NAME}_umap.png\"), dpi=300, bbox_inches='tight')\n",
        "plt.close()\n",
        "\n",
        "# Display for notebook - individual plots with proper coloring\n",
        "sc.pl.umap(adata, color='prob_conf_score', cmap='Reds', title='Confidence Score')\n",
        "sc.pl.umap(adata, color='leiden_0.38', palette='tab20', title='Leiden Clusters')\n",
        "sc.pl.umap(adata, color='majority_voting', palette='tab20', title='Cell Types')"
      ],
      "outputs": [],
      "execution_count": null
    },
    {
      "cell_type": "code",
      "metadata": {},
      "source": [
        "cell_types = gene_list.columns.tolist()\n",
        "print(cell_types)"
      ],
      "outputs": [],
      "execution_count": null
    },
    {
      "cell_type": "code",
      "metadata": {},
      "source": [
        "markers_dict = {col: gene_list[col].dropna().tolist() for col in gene_list.columns}\n",
        "markers_dict"
      ],
      "outputs": [],
      "execution_count": null
    },
    {
      "cell_type": "code",
      "metadata": {},
      "source": [
        "# Update plot_marker_genes function call to save plots to the output directory\n",
        "def plot_marker_genes_with_save(adata, cell_type, markers_dict, output_dir):\n",
        "    \"\"\"Modified plotting function that saves plots to specified directory\"\"\"\n",
        "    markers = markers_dict[cell_type]\n",
        "    \n",
        "    # Check which markers are in the dataset\n",
        "    available_markers = [m for m in markers if m in adata.var_names]\n",
        "    \n",
        "    if not available_markers:\n",
        "        print(f\"Warning: None of the markers for {cell_type} are in the dataset\")\n",
        "        return\n",
        "    \n",
        "    # Replace slashes in cell type name with hyphens for filenames\n",
        "    safe_cell_type = cell_type.replace('/', '-')\n",
        "    \n",
        "    # Calculate grid layout\n",
        "    n_markers = len(available_markers)\n",
        "    n_cols = min(3, n_markers)  # Max 3 columns\n",
        "    n_rows = (n_markers + n_cols - 1) // n_cols  # Ceiling division\n",
        "    \n",
        "    # Create a single figure for all markers of this cell type\n",
        "    fig = plt.figure(figsize=(n_cols * 4, n_rows * 4))\n",
        "    \n",
        "    for i, marker in enumerate(available_markers):\n",
        "        print(f\"Plotting {marker} for {cell_type}\")\n",
        "        ax = plt.subplot(n_rows, n_cols, i + 1)\n",
        "        sc.pl.umap(adata, color=marker, title=f\"{marker}\", \n",
        "                  cmap='Reds', show=False, ax=ax)\n",
        "    \n",
        "    # Add a main title for the entire figure\n",
        "    plt.suptitle(f\"Marker genes for {cell_type}\", fontsize=16)\n",
        "    plt.tight_layout(rect=[0, 0, 1, 0.97])  # Adjust to make room for suptitle\n",
        "    \n",
        "    # Save the combined figure\n",
        "    plt.savefig(os.path.join(output_dir, f\"{safe_cell_type}_markers_combined.png\"), \n",
        "                dpi=300, bbox_inches='tight')\n",
        "    plt.close()\n",
        "    \n",
        "    # Also display in notebook - this uses scanpy's built-in multi-panel plot\n",
        "    print(f\"Showing combined plot for {cell_type} markers:\")\n",
        "    sc.pl.umap(adata, color=available_markers, ncols=n_cols, cmap='Reds')"
      ],
      "outputs": [],
      "execution_count": null
    },
    {
      "cell_type": "code",
      "metadata": {},
      "source": [
        "for selected_cell_type in markers_dict.keys():\n",
        "    print(f\"Processing {selected_cell_type}\")\n",
        "    plot_marker_genes_with_save(adata, selected_cell_type, markers_dict, OUTPUT_DIR)\n",
        "    \n",
        "    # Also save summary plot for this cell type \n",
        "    available_markers = [m for m in markers_dict[selected_cell_type] if m in adata.var_names]\n",
        "    if available_markers:\n",
        "        # Replace slashes in cell type name with hyphens for filenames\n",
        "        safe_cell_type = selected_cell_type.replace('/', '-')\n",
        "        \n",
        "        # Get a dotplot of all markers for this cell type\n",
        "        plt.figure(figsize=(12, 6))\n",
        "        sc.pl.dotplot(adata, available_markers, groupby='majority_voting', \n",
        "                      title=f\"{selected_cell_type} markers\", show=False)\n",
        "        plt.savefig(os.path.join(OUTPUT_DIR, f\"{safe_cell_type}_dotplot.png\"), \n",
        "                    dpi=300, bbox_inches='tight')\n",
        "        plt.close()"
      ],
      "outputs": [],
      "execution_count": null
    },
    {
      "cell_type": "code",
      "metadata": {},
      "source": [
        "# Save the final results as an annotated h5ad file\n",
        "adata.write_h5ad(os.path.join(OUTPUT_DIR, f\"{SAMPLE_NAME}_analyzed.h5ad\"))\n",
        "\n",
        "# Generate a simple summary report\n",
        "with open(os.path.join(OUTPUT_DIR, f\"{SAMPLE_NAME}_summary.txt\"), 'w') as f:\n",
        "    f.write(f\"Analysis summary for {SAMPLE_NAME} with model {MODEL_TYPE}\\n\")\n",
        "    f.write(f\"Total cells: {adata.n_obs}\\n\")\n",
        "    f.write(f\"Total genes: {adata.n_vars}\\n\")\n",
        "    f.write(\"\\nCell type distribution:\\n\")\n",
        "    cell_type_counts = adata.obs['majority_voting'].value_counts()\n",
        "    for cell_type, count in cell_type_counts.items():\n",
        "        f.write(f\"{cell_type}: {count} cells ({count/adata.n_obs:.2%})\\n\")\n",
        "\n",
        "print(f\"Analysis complete for {SAMPLE_NAME}. Results saved to {OUTPUT_DIR}\")\n",
        "\n",
        "\n",
        "\n"
      ],
      "outputs": [],
      "execution_count": null
    }
  ],
  "metadata": {
    "anaconda-cloud": {},
    "kernelspec": {
      "display_name": "Python 3",
      "language": "python",
      "name": "python3"
    },
    "language_info": {
      "codemirror_mode": {
        "name": "ipython",
        "version": 3
      },
      "file_extension": ".py",
      "mimetype": "text/x-python",
      "name": "python",
      "nbconvert_exporter": "python",
      "pygments_lexer": "ipython3",
      "version": "3.6.1"
    }
  },
  "nbformat": 4,
  "nbformat_minor": 4
}