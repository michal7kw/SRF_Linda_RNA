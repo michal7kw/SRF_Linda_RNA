{
 "cells": [
  {
   "cell_type": "code",
   "metadata": {},
   "source": [
    "import scanpy as sc\n",
    "import numpy as np\n",
    "import pandas as pd\n",
    "import matplotlib.pyplot as plt\n",
    "import os\n",
    "import sys\n",
    "import anndata as ad\n",
    "import requests\n",
    "import urllib.request\n",
    "import warnings\n",
    "\n",
    "WORKING_DIR = \"/beegfs/scratch/ric.broccoli/kubacki.michal/SRF_Linda_RNA/post_analysis/check_markers\"\n",
    "os.chdir(WORKING_DIR)\n",
    "sys.path.append(WORKING_DIR)\n",
    "\n",
    "from functions import *\n",
    "\n",
    "# %% [markdown]\n",
    "# # Define gene sets"
   ],
   "outputs": [],
   "execution_count": null
  },
  {
   "cell_type": "code",
   "metadata": {},
   "source": [
    "gene_list = pd.read_csv(\"FirstLevelGeneList.csv\")\n",
    "gene_list\n",
    "\n",
    "\n",
    "# %% [markdown]\n",
    "# # Load data"
   ],
   "outputs": [],
   "execution_count": null
  },
  {
   "cell_type": "code",
   "metadata": {},
   "source": [
    "# DATA dirs\n",
    "\n",
    "# This cell will be parameterized by the script\n",
    "SAMPLE_NAME = \"Nestin_Mut\"  # This will be replaced with the actual sample name\n",
    "# SAMPLE_NAME = \"Emx1_Ctrl\"\n",
    "print(f\"Processing sample: {SAMPLE_NAME}\")\n",
    "\n",
    "# This cell will be parameterized by the script\n",
    "Mouse_Isocortex_Hippocampus = \"Mouse_Isocortex_Hippocampus\"  # This will be replaced with the actual model type\n",
    "# Mouse_Isocortex_Hippocampus = \"Dentate_Gyrus\"\n",
    "print(f\"Processing model: {Mouse_Isocortex_Hippocampus}\")"
   ],
   "outputs": [],
   "execution_count": null
  },
  {
   "cell_type": "code",
   "metadata": {},
   "source": [
    "data_path = f\"/beegfs/scratch/ric.broccoli/kubacki.michal/SRF_Linda_RNA/post_analysis/cell_typist/results_Mouse_{Mouse_Isocortex_Hippocampus}\"\n",
    "\n",
    "adata_paths = {\n",
    "    \"Emx1_Ctrl\": f\"{data_path}/Emx1_Ctrl_annotated.h5ad\",\n",
    "    \"Emx1_Mut\": f\"{data_path}/Emx1_Mut_annotated.h5ad\",\n",
    "    \"Nestin_Ctrl\": f\"{data_path}/Nestin_Ctrl_annotated.h5ad\",\n",
    "    \"Nestin_Mut\": f\"{data_path}/Nestin_Mut_annotated.h5ad\"\n",
    "}\n",
    "\n",
    "# Load AnnData objects into a dictionary\n",
    "# adata_dict = {}\n",
    "# for key, path in adata_paths.items():\n",
    "#     print(f\"Loading AnnData from {path}\")\n",
    "#     adata_dict[key] = sc.read_h5ad(path)\n",
    "#     print(f\"AnnData object {key} contains {adata_dict[key].n_obs} cells and {adata_dict[key].n_vars} genes\")"
   ],
   "outputs": [],
   "execution_count": null
  },
  {
   "cell_type": "code",
   "metadata": {},
   "source": [
    "adata = sc.read_h5ad(adata_paths[SAMPLE_NAME])"
   ],
   "outputs": [],
   "execution_count": null
  },
  {
   "cell_type": "code",
   "metadata": {},
   "source": [
    "adata\n",
    "\n",
    "# %% [markdown]\n",
    "# # Check Biomarkers"
   ],
   "outputs": [],
   "execution_count": null
  },
  {
   "cell_type": "code",
   "metadata": {},
   "source": [
    "with pd.option_context(\"display.max_columns\", None):\n",
    "    adata.obs.head()"
   ],
   "outputs": [],
   "execution_count": null
  },
  {
   "cell_type": "code",
   "metadata": {},
   "source": [
    "sc.pl.umap(adata, color = ['prob_conf_score', 'leiden_0.38', 'majority_voting'], legend_loc = 'right margin')"
   ],
   "outputs": [],
   "execution_count": null
  },
  {
   "cell_type": "code",
   "metadata": {},
   "source": [
    "cell_types = gene_list.columns.tolist()\n",
    "print(cell_types)"
   ],
   "outputs": [],
   "execution_count": null
  },
  {
   "cell_type": "code",
   "metadata": {},
   "source": [
    "markers_dict = {col: gene_list[col].dropna().tolist() for col in gene_list.columns}\n",
    "markers_dict"
   ],
   "outputs": [],
   "execution_count": null
  },
  {
   "cell_type": "code",
   "metadata": {},
   "source": [
    "for selected_cell_type in markers_dict.keys():\n",
    "    print(selected_cell_type)\n",
    "    plot_marker_genes(adata, selected_cell_type, markers_dict)"
   ],
   "outputs": [],
   "execution_count": null
  },
  {
   "cell_type": "code",
   "metadata": {},
   "source": [
    "\n",
    "\n",
    "\n"
   ],
   "outputs": [],
   "execution_count": null
  }
 ],
 "metadata": {
  "anaconda-cloud": {},
  "kernelspec": {
   "display_name": "Python 3",
   "language": "python",
   "name": "python3"
  },
  "language_info": {
   "codemirror_mode": {
    "name": "ipython",
    "version": 3
   },
   "file_extension": ".py",
   "mimetype": "text/x-python",
   "name": "python",
   "nbconvert_exporter": "python",
   "pygments_lexer": "ipython3",
   "version": "3.6.1"
  }
 },
 "nbformat": 4,
 "nbformat_minor": 4
}