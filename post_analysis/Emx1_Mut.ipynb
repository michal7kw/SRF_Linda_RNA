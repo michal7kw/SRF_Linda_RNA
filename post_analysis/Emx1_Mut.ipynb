{
 "cells": [
  {
   "cell_type": "code",
   "execution_count": 8,
   "metadata": {},
   "outputs": [],
   "source": [
    "# Import libraries\n",
    "import scanpy as sc\n",
    "import pandas as pd\n",
    "import numpy as np\n",
    "import matplotlib.pyplot as plt\n",
    "import seaborn as sns\n",
    "import os\n",
    "\n",
    "# Set plotting settings\n",
    "sc.settings.verbosity = 3\n",
    "sc.settings.set_figure_params(dpi=100, frameon=False)\n",
    "\n",
    "BASE_DIR = \"/beegfs/scratch/ric.broccoli/kubacki.michal/SRF_Linda_RNA\"\n",
    "\n",
    "os.chdir(BASE_DIR)"
   ]
  },
  {
   "cell_type": "code",
   "execution_count": 9,
   "metadata": {},
   "outputs": [],
   "source": [
    "import warnings\n",
    "warnings.filterwarnings(\"ignore\")"
   ]
  },
  {
   "cell_type": "code",
   "execution_count": 10,
   "metadata": {},
   "outputs": [],
   "source": [
    "samples = {\n",
    "    \"Emx1_Ctrl\": \"cellranger_counts_R26_Emx1_Ctrl_adult_0\",\n",
    "    \"Emx1_Mut\": \"cellranger_counts_R26_Emx1_Mut_adult_1\",\n",
    "    \"Nestin_Ctrl\": \"cellranger_counts_R26_Nestin_Ctrl_adult_2\",\n",
    "    \"Nestin_Mut\": \"cellranger_counts_R26_Nestin_Mut_adult_3\"\n",
    "    }"
   ]
  },
  {
   "cell_type": "markdown",
   "metadata": {},
   "source": [
    "# 1. Setup and Data Loading"
   ]
  },
  {
   "cell_type": "code",
   "execution_count": 13,
   "metadata": {},
   "outputs": [],
   "source": [
    "# Path to the matrix files\n",
    "CELL_DATA_DIR = \"cellranger_final_count_data\"\n",
    "\n",
    "SAMPLE = samples[\"Emx1_Mut\"]\n",
    "matrix_dir = os.path.join(BASE_DIR, CELL_DATA_DIR, SAMPLE, \"outs\", \"filtered_feature_bc_matrix\")\n",
    "\n",
    "# Load the data from the filtered matrix\n",
    "try:\n",
    "    adata = sc.read_10x_mtx(\n",
    "        matrix_dir,\n",
    "        var_names='gene_symbols',\n",
    "        cache=True\n",
    "    )\n",
    "    print(f\"Shape of loaded data: {adata.shape}\")  # cells × genes\n",
    "except ValueError as e:\n",
    "    print(f\"Error loading data: {e}\")\n",
    "    # Try loading with different parameters to handle the mismatch\n",
    "    adata = sc.read_10x_mtx(\n",
    "        matrix_dir,\n",
    "        var_names='gene_symbols',\n",
    "        cache=False\n",
    "    )\n",
    "    print(f\"Shape of loaded data after retry: {adata.shape}\")  # cells × genes"
   ]
  },
  {
   "cell_type": "markdown",
   "metadata": {},
   "source": [
    "# 2. Basic Pre-processing"
   ]
  },
  {
   "cell_type": "code",
   "execution_count": 14,
   "metadata": {},
   "outputs": [],
   "source": [
    "# Make a copy of the raw counts\n",
    "adata.raw = adata.copy()\n",
    "\n",
    "# Basic filtering\n",
    "sc.pp.filter_cells(adata, min_genes=200)\n",
    "sc.pp.filter_genes(adata, min_cells=3)\n",
    "\n",
    "# Calculate QC metrics\n",
    "adata.var['mt'] = adata.var_names.str.startswith('mt-')  # identify mitochondrial genes\n",
    "sc.pp.calculate_qc_metrics(adata, qc_vars=['mt'], percent_top=None, log1p=False, inplace=True)\n",
    "\n",
    "# Plot QC metrics\n",
    "fig, axs = plt.subplots(1, 3, figsize=(15, 4))\n",
    "sns.histplot(adata.obs['n_genes_by_counts'], kde=False, ax=axs[0])\n",
    "axs[0].set_title('Genes per cell')\n",
    "sns.histplot(adata.obs['total_counts'], kde=False, ax=axs[1])\n",
    "axs[1].set_title('UMI counts per cell')\n",
    "sns.histplot(adata.obs['pct_counts_mt'], kde=False, ax=axs[2])\n",
    "axs[2].set_title('Percent mitochondrial')\n",
    "plt.tight_layout()\n",
    "plt.show()"
   ]
  },
  {
   "cell_type": "markdown",
   "metadata": {},
   "source": [
    "# 3. Filtering Based on QC Metrics"
   ]
  },
  {
   "cell_type": "code",
   "execution_count": 15,
   "metadata": {},
   "outputs": [],
   "source": [
    "max_genes = 15000 \n",
    "min_genes = 500  \n",
    "max_mt_pct = 20  \n",
    "\n",
    "adata = adata[adata.obs['n_genes_by_counts'] < max_genes, :]\n",
    "adata = adata[adata.obs['n_genes_by_counts'] > min_genes, :]\n",
    "adata = adata[adata.obs['pct_counts_mt'] < max_mt_pct, :]\n",
    "\n",
    "print(f\"Number of cells after filtering: {adata.n_obs}\")\n",
    "print(f\"Number of genes after filtering: {adata.n_vars}\")"
   ]
  },
  {
   "cell_type": "markdown",
   "metadata": {},
   "source": [
    "# 4. Normalization and Log Transformation"
   ]
  },
  {
   "cell_type": "code",
   "execution_count": 16,
   "metadata": {},
   "outputs": [],
   "source": [
    "# Normalize to 10,000 reads per cell\n",
    "sc.pp.normalize_total(adata, target_sum=1e4)\n",
    "\n",
    "# Log transform\n",
    "sc.pp.log1p(adata)\n",
    "\n",
    "# Identify highly variable genes\n",
    "sc.pp.highly_variable_genes(adata, min_mean=0.0125, max_mean=3, min_disp=0.5)\n",
    "print(f\"Number of highly variable genes: {sum(adata.var.highly_variable)}\")\n",
    "\n",
    "# Plot highly variable genes\n",
    "plt.figure(figsize=(10, 8))\n",
    "sc.pl.highly_variable_genes(adata, show=False)\n",
    "plt.tight_layout()\n",
    "plt.show()\n",
    "\n",
    "# Keep only highly variable genes for dimensionality reduction\n",
    "adata_hvg = adata[:, adata.var.highly_variable]"
   ]
  },
  {
   "cell_type": "markdown",
   "metadata": {},
   "source": [
    "# 5. Dimensionality Reduction"
   ]
  },
  {
   "cell_type": "code",
   "execution_count": 17,
   "metadata": {},
   "outputs": [],
   "source": [
    "# Scale data to unit variance and zero mean\n",
    "sc.pp.scale(adata_hvg, max_value=10)\n",
    "\n",
    "# Run PCA\n",
    "sc.tl.pca(adata_hvg, svd_solver='arpack')\n",
    "\n",
    "# Determine number of significant PCs\n",
    "sc.pl.pca_variance_ratio(adata_hvg, n_pcs=50, log=True)\n",
    "plt.show()\n",
    "\n",
    "# Choose number of PCs for downstream analyses\n",
    "n_pcs = 30  # Adjust based on the variance ratio plot\n",
    "\n",
    "# Compute neighborhood graph\n",
    "sc.pp.neighbors(adata_hvg, n_neighbors=15, n_pcs=n_pcs)\n",
    "\n",
    "# Run UMAP\n",
    "sc.tl.umap(adata_hvg)\n",
    "\n",
    "# Plot UMAP\n",
    "plt.figure(figsize=(10, 8))\n",
    "sc.pl.umap(adata_hvg, color=['total_counts', 'n_genes_by_counts', 'pct_counts_mt'], \n",
    "           use_raw=False, color_map='viridis', show=False)\n",
    "plt.tight_layout()\n",
    "plt.show()"
   ]
  },
  {
   "cell_type": "markdown",
   "metadata": {},
   "source": [
    "# 6. Clustering"
   ]
  },
  {
   "cell_type": "code",
   "execution_count": 18,
   "metadata": {},
   "outputs": [],
   "source": [
    "# # Find clusters using Leiden algorithm\n",
    "# sc.tl.leiden(adata_hvg, resolution=0.5)  # Adjust resolution as needed\n",
    "\n",
    "# # Plot clusters on UMAP\n",
    "# plt.figure(figsize=(10, 8))\n",
    "# sc.pl.umap(adata_hvg, color='leiden', show=False)\n",
    "# plt.tight_layout()\n",
    "# plt.show()\n",
    "\n",
    "# # Check cluster sizes\n",
    "# cluster_counts = adata_hvg.obs['leiden'].value_counts()\n",
    "# print(cluster_counts)"
   ]
  },
  {
   "cell_type": "code",
   "execution_count": 19,
   "metadata": {},
   "outputs": [],
   "source": [
    "# Try different resolutions to find optimal number of clusters\n",
    "resolutions = [0.1, 0.3, 0.5, 0.7, 1.0]\n",
    "for res in resolutions:\n",
    "    sc.tl.leiden(adata_hvg, resolution=res, key_added=f'leiden_res{res}')\n",
    "\n",
    "# Plot clusters at different resolutions with improved layout\n",
    "fig, axes = plt.subplots(1, len(resolutions), figsize=(20, 5))\n",
    "for i, res in enumerate(resolutions):\n",
    "    sc.pl.umap(adata_hvg, color=f'leiden_res{res}', title=f'Resolution {res}', \n",
    "               frameon=True, legend_loc='on data', legend_fontsize=10, ax=axes[i], show=False)\n",
    "\n",
    "# Ensure proper spacing between subplots\n",
    "plt.tight_layout()\n",
    "plt.show()"
   ]
  },
  {
   "cell_type": "markdown",
   "metadata": {},
   "source": [
    "# 7. Marker Gene Identification"
   ]
  },
  {
   "cell_type": "code",
   "execution_count": 20,
   "metadata": {},
   "outputs": [],
   "source": [
    "print(adata_hvg.layers.keys())\n",
    "print(adata_hvg)"
   ]
  },
  {
   "cell_type": "code",
   "execution_count": 21,
   "metadata": {},
   "outputs": [],
   "source": [
    "from scipy.sparse import issparse\n",
    "import numpy as np\n",
    "\n",
    "# Check first 5 values from first cell\n",
    "if issparse(adata_hvg.X):\n",
    "    print(\"X matrix values (first cell):\", adata_hvg.X[0, :5].toarray().flatten())\n",
    "else:\n",
    "    print(\"X matrix values (first cell):\", adata_hvg.X[0, :5])\n",
    "print(\"Should be log1p transformed values (~0-5 range)\")\n",
    "\n",
    "# Check raw values if raw exists\n",
    "if adata_hvg.raw:\n",
    "    if issparse(adata_hvg.raw.X):\n",
    "        print(\"Raw values:\", adata_hvg.raw.X[0, :5].toarray().flatten())\n",
    "    else:\n",
    "        print(\"Raw values:\", adata_hvg.raw.X[0, :5])\n",
    "    print(\"Should be original counts (integers)\")"
   ]
  },
  {
   "cell_type": "code",
   "execution_count": 23,
   "metadata": {},
   "outputs": [],
   "source": [
    "leiden_resolution = \"leiden_res0.1\""
   ]
  },
  {
   "cell_type": "code",
   "execution_count": 24,
   "metadata": {},
   "outputs": [],
   "source": [
    "sc.tl.rank_genes_groups(adata_hvg, leiden_resolution, method='wilcoxon', use_raw=False)\n",
    "\n",
    "# Plot top marker genes\n",
    "plt.figure(figsize=(15, 10))\n",
    "sc.pl.rank_genes_groups(adata_hvg, n_genes=15, sharey=False, show=False)\n",
    "plt.tight_layout()\n",
    "plt.show()\n",
    "\n",
    "# Get the top markers for each cluster\n",
    "marker_genes = pd.DataFrame()\n",
    "for i in range(len(np.unique(adata_hvg.obs[leiden_resolution]))):\n",
    "    markers = sc.get.rank_genes_groups_df(adata_hvg, group=str(i))\n",
    "    markers = markers.sort_values('pvals_adj')\n",
    "    markers['cluster'] = i\n",
    "    marker_genes = pd.concat([marker_genes, markers.head(10)])\n",
    "\n",
    "# Save markers to CSV\n",
    "marker_genes.to_csv('cluster_markers.csv', index=False)\n",
    "\n",
    "# Heatmap of top markers per cluster\n",
    "top_markers_per_cluster = {}\n",
    "for cluster in np.unique(adata_hvg.obs[leiden_resolution]):\n",
    "    cluster_markers = marker_genes[marker_genes['cluster'] == int(cluster)]\n",
    "    top_markers_per_cluster[cluster] = cluster_markers['names'].tolist()[:5]\n",
    "\n",
    "markers_flat = [gene for cluster_markers in top_markers_per_cluster.values() for gene in cluster_markers]\n",
    "markers_unique = list(dict.fromkeys(markers_flat))  # Remove duplicates while preserving order\n",
    "\n",
    "# Run dendrogram to avoid warning\n",
    "sc.tl.dendrogram(adata_hvg, groupby=leiden_resolution)\n",
    "\n",
    "plt.figure(figsize=(15, 10))\n",
    "\n",
    "try:\n",
    "    sc.pl.heatmap(adata_hvg, markers_unique, groupby=leiden_resolution, dendrogram=True, \n",
    "                  swap_axes=True, use_raw=False, show=False, standard_scale='var')\n",
    "    plt.tight_layout()\n",
    "    plt.show()\n",
    "except KeyError as e:\n",
    "    print(f\"KeyError encountered: {e}\")\n",
    "    print(\"Check if the marker genes are in adata_hvg.var_names.\")\n",
    "    \n",
    "    # Find missing genes\n",
    "    missing_genes = [gene for gene in markers_unique if gene not in adata_hvg.var_names]\n",
    "    print(f\"Missing genes: {missing_genes}\")\n",
    "    \n",
    "    # Proceed with available genes, if any\n",
    "    available_markers = [gene for gene in markers_unique if gene in adata_hvg.var_names]\n",
    "    if available_markers:\n",
    "        print(\"Plotting heatmap with available markers.\")\n",
    "        sc.pl.heatmap(adata_hvg, available_markers, groupby=leiden_resolution, dendrogram=True, \n",
    "                      swap_axes=True, use_raw=False, show=False, standard_scale='var')\n",
    "        plt.tight_layout()\n",
    "        plt.show()\n",
    "    else:\n",
    "        print(\"No valid marker genes found in adata_hvg.var_names. Heatmap cannot be plotted.\")"
   ]
  },
  {
   "cell_type": "markdown",
   "metadata": {},
   "source": [
    "# 8. Cell Type Annotation"
   ]
  },
  {
   "cell_type": "code",
   "execution_count": 26,
   "metadata": {},
   "outputs": [],
   "source": [
    "def annotate_cell_types(adata):\n",
    "    cell_type_markers = {\n",
    "        'Neurons': ['Rbfox3', 'Tubb3', 'Map2', 'Snap25'],\n",
    "        'Astrocytes': ['Gfap', 'Aqp4', 'Aldh1l1'],\n",
    "        'Oligodendrocytes': ['Mbp', 'Plp1', 'Mog', 'Olig1', 'Olig2'],\n",
    "        'Microglia': ['Cx3cr1', 'P2ry12', 'Hexb', 'Csf1r'],\n",
    "        'OPCs': ['Pdgfra', 'Cspg4'],\n",
    "        'Endothelial': ['Cldn5', 'Pecam1', 'Vwf'],\n",
    "        'Pericytes': ['Pdgfrb', 'Rgs5', 'Acta2']\n",
    "    }\n",
    "    \n",
    "    # Create a new dataframe to store scores\n",
    "    cell_type_scores = pd.DataFrame(index=adata.obs_names)\n",
    "    \n",
    "    # For each cell type, calculate the mean expression of marker genes\n",
    "    for cell_type, markers in cell_type_markers.items():\n",
    "        # Find markers that exist in the dataset\n",
    "        existing_markers = [marker for marker in markers if marker in adata.var_names]\n",
    "        if len(existing_markers) > 0:\n",
    "            # Calculate mean expression of markers for each cell\n",
    "            cell_type_scores[cell_type] = adata[:, existing_markers].X.mean(axis=1)\n",
    "    \n",
    "    # Assign cell type based on highest score\n",
    "    adata.obs['cell_type'] = cell_type_scores.idxmax(axis=1)\n",
    "    \n",
    "    # Add score for visualization\n",
    "    adata.obs['cell_type_score'] = cell_type_scores.max(axis=1)\n",
    "    \n",
    "    return adata\n",
    "\n",
    "# Annotate cell types\n",
    "adata_hvg = annotate_cell_types(adata_hvg)\n",
    "\n",
    "# Plot cell types on UMAP\n",
    "plt.figure(figsize=(8, 6))\n",
    "sc.pl.umap(adata_hvg, color='cell_type', show=False)\n",
    "plt.tight_layout()\n",
    "plt.show()\n",
    "\n",
    "# Compare with Leiden clusters\n",
    "fig, axes = plt.subplots(1, 2, figsize=(16, 6))\n",
    "sc.pl.umap(adata_hvg, color=leiden_resolution, title='Leiden clusters', ax=axes[0], show=False)\n",
    "sc.pl.umap(adata_hvg, color='cell_type', title='Cell types', ax=axes[1], show=False)\n",
    "plt.tight_layout()\n",
    "plt.show()"
   ]
  },
  {
   "cell_type": "markdown",
   "metadata": {},
   "source": [
    "# 9. Differential Expression Analysis"
   ]
  },
  {
   "cell_type": "code",
   "execution_count": 27,
   "metadata": {},
   "outputs": [],
   "source": [
    "selected_cluster = '6'\n",
    "\n",
    "# Perform differential expression between all clusters vs. the rest\n",
    "sc.tl.rank_genes_groups(adata_hvg, leiden_resolution, method='wilcoxon', use_raw=False)\n",
    "\n",
    "# Plot results - violin plot for selected cluster\n",
    "plt.figure(figsize=(10, 8))\n",
    "try:\n",
    "    sc.pl.rank_genes_groups_violin(adata_hvg, groups=[selected_cluster], n_genes=10, show=False)\n",
    "    plt.tight_layout()\n",
    "    plt.show()\n",
    "except ValueError as e:\n",
    "    print(f\"Error plotting violin plot: {e}. Skipping violin plot.\")\n",
    "\n",
    "\n",
    "# Plot results - rank genes groups plot\n",
    "try:\n",
    "    sc.pl.rank_genes_groups(adata_hvg, n_genes=25, sharey=False)\n",
    "    plt.tight_layout()\n",
    "    plt.show()\n",
    "except ValueError as e:\n",
    "    print(f\"Error plotting rank genes groups plot: {e}. Skipping rank genes groups plot.\")\n",
    "\n",
    "\n",
    "# Get differential expression results as dataframe for selected cluster\n",
    "de_genes = sc.get.rank_genes_groups_df(adata_hvg, group=selected_cluster, key='rank_genes_groups')\n",
    "print(de_genes.head(20))"
   ]
  },
  {
   "cell_type": "markdown",
   "metadata": {},
   "source": [
    "# 10. Save Results"
   ]
  },
  {
   "cell_type": "code",
   "execution_count": 29,
   "metadata": {},
   "outputs": [],
   "source": [
    "OUT_DIR = \"post_analysis/results\"\n",
    "os.makedirs(os.path.join(OUT_DIR, SAMPLE), exist_ok=True)\n",
    "\n",
    "# Save the processed object for future use\n",
    "adata_hvg.write(os.path.join(OUT_DIR, SAMPLE, 'R26_Nestin_Mut_adult_processed.h5ad'))\n",
    "\n",
    "# Save key results to CSV files\n",
    "adata_hvg.obs.to_csv(os.path.join(OUT_DIR, SAMPLE, 'cell_metadata.c     sv'))\n",
    "pd.DataFrame({'UMAP1': adata_hvg.obsm['X_umap'][:, 0], \n",
    "              'UMAP2': adata_hvg.obsm['X_umap'][:, 1], \n",
    "              'cluster': adata_hvg.obs[leiden_resolution],\n",
    "              'cell_type': adata_hvg.obs['cell_type']}).to_csv(os.path.join(OUT_DIR, SAMPLE, 'umap_coordinates.csv'), index=False)\n",
    "\n",
    "# Generate summary report\n",
    "summary = {\n",
    "    'total_cells': adata_hvg.n_obs,\n",
    "    'total_genes': adata_hvg.n_vars,\n",
    "    'clusters': len(np.unique(adata_hvg.obs[leiden_resolution])),\n",
    "    'cell_types': len(np.unique(adata_hvg.obs['cell_type'])),\n",
    "    'cells_per_cluster': adata_hvg.obs[leiden_resolution].value_counts().to_dict(),\n",
    "    'cells_per_cell_type': adata_hvg.obs['cell_type'].value_counts().to_dict()\n",
    "}\n",
    "\n",
    "with open(os.path.join(OUT_DIR, SAMPLE, 'analysis_summary.txt'), 'w') as f:\n",
    "    for key, value in summary.items():\n",
    "        f.write(f\"{key}: {value}\\n\")"
   ]
  }
 ],
 "metadata": {
  "kernelspec": {
   "display_name": "Python (snakemake)",
   "language": "python",
   "name": "snakemake"
  }
 },
 "nbformat": 4,
 "nbformat_minor": 2
}
