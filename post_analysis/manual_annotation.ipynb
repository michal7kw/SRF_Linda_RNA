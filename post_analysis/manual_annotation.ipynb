{
 "cells": [
  {
   "cell_type": "code",
   "execution_count": 1,
   "metadata": {},
   "outputs": [],
   "source": [
    "import scanpy as sc\n",
    "import numpy as np\n",
    "import pandas as pd\n",
    "import matplotlib.pyplot as plt\n",
    "import os\n",
    "import sys\n",
    "import anndata as ad\n",
    "import requests\n",
    "import urllib.request\n",
    "import warnings"
   ]
  },
  {
   "cell_type": "markdown",
   "metadata": {},
   "source": [
    "# Define gene sets"
   ]
  },
  {
   "cell_type": "code",
   "execution_count": 2,
   "metadata": {},
   "outputs": [],
   "source": [
    "def get_allen_cortex_hippocampus_markers():\n",
    "    \"\"\"\n",
    "    Return dictionary of known cell type markers for mouse cortex and hippocampus.\n",
    "    Based on literature and Allen Brain Atlas.\n",
    "    \n",
    "    Returns:\n",
    "    --------\n",
    "    markers : dict\n",
    "        Dictionary of cell type markers\n",
    "    \"\"\"\n",
    "    # These markers are based on Allen Brain Atlas and literature\n",
    "    markers = {\n",
    "        # Excitatory neurons by region\n",
    "        \"Cortical_Excitatory\": [\"Slc17a7\", \"Nrgn\", \"Cux1\", \"Cux2\", \"Satb2\", \"Foxp1\", \"Rorb\", \"Deptor\", \"Fezf2\", \"Bcl6\", \"Tle4\", \"Foxp2\"],\n",
    "        \"Hippocampal_Excitatory\": [\"Slc17a7\", \"Neurod6\", \"Wfs1\", \"Cpne5\", \"Gpc5\", \"Stxbp6\", \"Fibcd1\", \"Tshz2\", \"Spink8\", \"Prox1\"],\n",
    "        \n",
    "        # Inhibitory neurons \n",
    "        \"Cortical_Inhibitory\": [\"Gad1\", \"Gad2\", \"Pvalb\", \"Sst\", \"Vip\", \"Lamp5\", \"Serpinf1\", \"Lhx6\", \"Npy\", \"Cck\"],\n",
    "        \"Hippocampal_Inhibitory\": [\"Gad1\", \"Gad2\", \"Pvalb\", \"Sst\", \"Vip\", \"Lamp5\", \"Cacna2d1\", \"Cxcl14\", \"Cck\", \"Calb1\", \"Calb2\"],\n",
    "        \n",
    "        # Non-neuronal cells\n",
    "        \"Astrocytes\": [\"Aqp4\", \"Gfap\", \"Aldh1l1\", \"Slc1a3\", \"Slc1a2\", \"Gja1\", \"Apoe\"],\n",
    "        \"Oligodendrocytes\": [\"Mbp\", \"Mog\", \"Olig1\", \"Olig2\", \"Plp1\", \"Cnp\", \"Mag\", \"Sox10\"],\n",
    "        \"OPCs\": [\"Pdgfra\", \"Cspg4\", \"Sox10\", \"Olig1\", \"Olig2\", \"Pcdh15\", \"Lhfpl3\"],\n",
    "        \"Microglia\": [\"Csf1r\", \"Cx3cr1\", \"P2ry12\", \"Tmem119\", \"Hexb\", \"Fcrls\", \"Itgam\", \"Aif1\"],\n",
    "        \"Vascular\": [\"Cldn5\", \"Flt1\", \"Slc2a1\", \"Vwf\", \"Pecam1\"],\n",
    "        \n",
    "        # Specialized hippocampal cell types\n",
    "        \"Granule_Cells\": [\"Dsp\", \"Prox1\", \"Lrrtm4\", \"Drd1a\"],\n",
    "        \"CA1_Pyramidal\": [\"Wfs1\", \"Slc17a7\", \"Neurod6\", \"Calb1\"],\n",
    "        \"CA2_Pyramidal\": [\"Amigo2\", \"Pcp4\", \"Cacng5\", \"Rgs14\"],\n",
    "        \"CA3_Pyramidal\": [\"Bok\", \"Kcnq5\", \"Cpne4\", \"Grik4\", \"Prss12\", \"Spink8\"]\n",
    "    }\n",
    "    \n",
    "    return markers"
   ]
  },
  {
   "cell_type": "code",
   "execution_count": 3,
   "metadata": {},
   "outputs": [],
   "source": [
    "def get_mouse_brain_markers():\n",
    "    \"\"\"\n",
    "    Get marker genes for mouse hippocampus and cortex cell types.\n",
    "    \n",
    "    Returns:\n",
    "    --------\n",
    "    markers : dict\n",
    "        Dictionary of cell type markers for visualization\n",
    "    \"\"\"\n",
    "\n",
    "    markers = {\n",
    "        # Excitatory neurons\n",
    "        \"Excitatory_neurons\": [\"Slc17a7\", \"Neurod6\", \"Nrgn\", \"Camk2a\", \"Satb2\"],\n",
    "        \n",
    "        # Inhibitory neurons\n",
    "        \"Inhibitory_neurons\": [\"Gad1\", \"Gad2\", \"Slc32a1\", \"Pvalb\", \"Sst\", \"Vip\"],\n",
    "        \n",
    "        # Hippocampal cells\n",
    "        \"Hippocampal_CA1\": [\"Wfs1\", \"Nr3c2\", \"Spink8\"],\n",
    "        \"Hippocampal_CA2\": [\"Amigo2\", \"Pcp4\", \"Cacng5\", \"Rgs14\"],\n",
    "        \"Hippocampal_CA3\": [\"Bok\", \"Kcnq5\", \"Cpne4\", \"Grik4\", \"Prss12\"],\n",
    "        \"Dentate_gyrus\": [\"Prox1\", \"Lrrtm4\", \"Dsp\", \"Ctgf\", \"Drd1a\"],\n",
    "        \n",
    "        # Cortical layers\n",
    "        \"Layer_2_3\": [\"Cux1\", \"Cux2\", \"Lamp5\", \"Ptgs2\"],\n",
    "        \"Layer_4\": [\"Rorb\", \"Rspo1\", \"Scnn1a\"],\n",
    "        \"Layer_5\": [\"Bcl6\", \"Fezf2\", \"Deptor\", \"Ctip2\", \"Hsd11b1\"],\n",
    "        \"Layer_6\": [\"Foxp2\", \"Ctgf\", \"Nxph2\", \"Tle4\"],\n",
    "        \n",
    "        # Glial cells\n",
    "        \"Astrocytes\": [\"Aqp4\", \"Gfap\", \"Aldh1l1\", \"Slc1a2\", \"Slc1a3\"],\n",
    "        \"Oligodendrocytes\": [\"Mbp\", \"Mog\", \"Plp1\", \"Olig1\", \"Sox10\"],\n",
    "        \"OPCs\": [\"Pdgfra\", \"Cspg4\", \"Sox10\"],\n",
    "        \"Microglia\": [\"Csf1r\", \"Cx3cr1\", \"P2ry12\", \"Tmem119\", \"Hexb\"],\n",
    "    }\n",
    "    \n",
    "    return markers"
   ]
  },
  {
   "cell_type": "markdown",
   "metadata": {},
   "source": [
    "# Load data"
   ]
  },
  {
   "cell_type": "code",
   "execution_count": 4,
   "metadata": {},
   "outputs": [
    {
     "name": "stdout",
     "output_type": "stream",
     "text": [
      "Loading AnnData from /beegfs/scratch/ric.broccoli/kubacki.michal/SRF_Linda_RNA/post_analysis/results/cellranger_counts_R26_Emx1_Ctrl_adult_0/adata.h5ad\n",
      "AnnData object Emx1_Ctrl contains 4707 cells and 26071 genes\n",
      "Loading AnnData from /beegfs/scratch/ric.broccoli/kubacki.michal/SRF_Linda_RNA/post_analysis/results/cellranger_counts_R26_Emx1_Mut_adult_1/adata.h5ad\n"
     ]
    },
    {
     "ename": "FileNotFoundError",
     "evalue": "[Errno 2] Unable to synchronously open file (unable to open file: name = '/beegfs/scratch/ric.broccoli/kubacki.michal/SRF_Linda_RNA/post_analysis/results/cellranger_counts_R26_Emx1_Mut_adult_1/adata.h5ad', errno = 2, error message = 'No such file or directory', flags = 0, o_flags = 0)",
     "output_type": "error",
     "traceback": [
      "\u001b[0;31m---------------------------------------------------------------------------\u001b[0m",
      "\u001b[0;31mFileNotFoundError\u001b[0m                         Traceback (most recent call last)",
      "Cell \u001b[0;32mIn[4], line 14\u001b[0m\n\u001b[1;32m     12\u001b[0m \u001b[38;5;28;01mfor\u001b[39;00m key, path \u001b[38;5;129;01min\u001b[39;00m adata_paths\u001b[38;5;241m.\u001b[39mitems():\n\u001b[1;32m     13\u001b[0m     \u001b[38;5;28mprint\u001b[39m(\u001b[38;5;124mf\u001b[39m\u001b[38;5;124m\"\u001b[39m\u001b[38;5;124mLoading AnnData from \u001b[39m\u001b[38;5;132;01m{\u001b[39;00mpath\u001b[38;5;132;01m}\u001b[39;00m\u001b[38;5;124m\"\u001b[39m)\n\u001b[0;32m---> 14\u001b[0m     adata_dict[key] \u001b[38;5;241m=\u001b[39m \u001b[43msc\u001b[49m\u001b[38;5;241;43m.\u001b[39;49m\u001b[43mread_h5ad\u001b[49m\u001b[43m(\u001b[49m\u001b[43mpath\u001b[49m\u001b[43m)\u001b[49m\n\u001b[1;32m     15\u001b[0m     \u001b[38;5;28mprint\u001b[39m(\u001b[38;5;124mf\u001b[39m\u001b[38;5;124m\"\u001b[39m\u001b[38;5;124mAnnData object \u001b[39m\u001b[38;5;132;01m{\u001b[39;00mkey\u001b[38;5;132;01m}\u001b[39;00m\u001b[38;5;124m contains \u001b[39m\u001b[38;5;132;01m{\u001b[39;00madata_dict[key]\u001b[38;5;241m.\u001b[39mn_obs\u001b[38;5;132;01m}\u001b[39;00m\u001b[38;5;124m cells and \u001b[39m\u001b[38;5;132;01m{\u001b[39;00madata_dict[key]\u001b[38;5;241m.\u001b[39mn_vars\u001b[38;5;132;01m}\u001b[39;00m\u001b[38;5;124m genes\u001b[39m\u001b[38;5;124m\"\u001b[39m)\n",
      "File \u001b[0;32m/beegfs/scratch/ric.broccoli/kubacki.michal/conda_envs/snakemake/lib/python3.11/site-packages/anndata/_io/h5ad.py:236\u001b[0m, in \u001b[0;36mread_h5ad\u001b[0;34m(filename, backed, as_sparse, as_sparse_fmt, chunk_size)\u001b[0m\n\u001b[1;32m    228\u001b[0m         \u001b[38;5;28;01mraise\u001b[39;00m \u001b[38;5;167;01mNotImplementedError\u001b[39;00m(\n\u001b[1;32m    229\u001b[0m             \u001b[38;5;124m\"\u001b[39m\u001b[38;5;124mCurrently only `X` and `raw/X` can be read as sparse.\u001b[39m\u001b[38;5;124m\"\u001b[39m\n\u001b[1;32m    230\u001b[0m         )\n\u001b[1;32m    232\u001b[0m rdasp \u001b[38;5;241m=\u001b[39m partial(\n\u001b[1;32m    233\u001b[0m     read_dense_as_sparse, sparse_format\u001b[38;5;241m=\u001b[39mas_sparse_fmt, axis_chunk\u001b[38;5;241m=\u001b[39mchunk_size\n\u001b[1;32m    234\u001b[0m )\n\u001b[0;32m--> 236\u001b[0m \u001b[38;5;28;01mwith\u001b[39;00m \u001b[43mh5py\u001b[49m\u001b[38;5;241;43m.\u001b[39;49m\u001b[43mFile\u001b[49m\u001b[43m(\u001b[49m\u001b[43mfilename\u001b[49m\u001b[43m,\u001b[49m\u001b[43m \u001b[49m\u001b[38;5;124;43m\"\u001b[39;49m\u001b[38;5;124;43mr\u001b[39;49m\u001b[38;5;124;43m\"\u001b[39;49m\u001b[43m)\u001b[49m \u001b[38;5;28;01mas\u001b[39;00m f:\n\u001b[1;32m    238\u001b[0m     \u001b[38;5;28;01mdef\u001b[39;00m \u001b[38;5;21mcallback\u001b[39m(func, elem_name: \u001b[38;5;28mstr\u001b[39m, elem, iospec):\n\u001b[1;32m    239\u001b[0m         \u001b[38;5;28;01mif\u001b[39;00m iospec\u001b[38;5;241m.\u001b[39mencoding_type \u001b[38;5;241m==\u001b[39m \u001b[38;5;124m\"\u001b[39m\u001b[38;5;124manndata\u001b[39m\u001b[38;5;124m\"\u001b[39m \u001b[38;5;129;01mor\u001b[39;00m elem_name\u001b[38;5;241m.\u001b[39mendswith(\u001b[38;5;124m\"\u001b[39m\u001b[38;5;124m/\u001b[39m\u001b[38;5;124m\"\u001b[39m):\n",
      "File \u001b[0;32m/beegfs/scratch/ric.broccoli/kubacki.michal/conda_envs/snakemake/lib/python3.11/site-packages/h5py/_hl/files.py:561\u001b[0m, in \u001b[0;36mFile.__init__\u001b[0;34m(self, name, mode, driver, libver, userblock_size, swmr, rdcc_nslots, rdcc_nbytes, rdcc_w0, track_order, fs_strategy, fs_persist, fs_threshold, fs_page_size, page_buf_size, min_meta_keep, min_raw_keep, locking, alignment_threshold, alignment_interval, meta_block_size, **kwds)\u001b[0m\n\u001b[1;32m    552\u001b[0m     fapl \u001b[38;5;241m=\u001b[39m make_fapl(driver, libver, rdcc_nslots, rdcc_nbytes, rdcc_w0,\n\u001b[1;32m    553\u001b[0m                      locking, page_buf_size, min_meta_keep, min_raw_keep,\n\u001b[1;32m    554\u001b[0m                      alignment_threshold\u001b[38;5;241m=\u001b[39malignment_threshold,\n\u001b[1;32m    555\u001b[0m                      alignment_interval\u001b[38;5;241m=\u001b[39malignment_interval,\n\u001b[1;32m    556\u001b[0m                      meta_block_size\u001b[38;5;241m=\u001b[39mmeta_block_size,\n\u001b[1;32m    557\u001b[0m                      \u001b[38;5;241m*\u001b[39m\u001b[38;5;241m*\u001b[39mkwds)\n\u001b[1;32m    558\u001b[0m     fcpl \u001b[38;5;241m=\u001b[39m make_fcpl(track_order\u001b[38;5;241m=\u001b[39mtrack_order, fs_strategy\u001b[38;5;241m=\u001b[39mfs_strategy,\n\u001b[1;32m    559\u001b[0m                      fs_persist\u001b[38;5;241m=\u001b[39mfs_persist, fs_threshold\u001b[38;5;241m=\u001b[39mfs_threshold,\n\u001b[1;32m    560\u001b[0m                      fs_page_size\u001b[38;5;241m=\u001b[39mfs_page_size)\n\u001b[0;32m--> 561\u001b[0m     fid \u001b[38;5;241m=\u001b[39m \u001b[43mmake_fid\u001b[49m\u001b[43m(\u001b[49m\u001b[43mname\u001b[49m\u001b[43m,\u001b[49m\u001b[43m \u001b[49m\u001b[43mmode\u001b[49m\u001b[43m,\u001b[49m\u001b[43m \u001b[49m\u001b[43muserblock_size\u001b[49m\u001b[43m,\u001b[49m\u001b[43m \u001b[49m\u001b[43mfapl\u001b[49m\u001b[43m,\u001b[49m\u001b[43m \u001b[49m\u001b[43mfcpl\u001b[49m\u001b[43m,\u001b[49m\u001b[43m \u001b[49m\u001b[43mswmr\u001b[49m\u001b[38;5;241;43m=\u001b[39;49m\u001b[43mswmr\u001b[49m\u001b[43m)\u001b[49m\n\u001b[1;32m    563\u001b[0m \u001b[38;5;28;01mif\u001b[39;00m \u001b[38;5;28misinstance\u001b[39m(libver, \u001b[38;5;28mtuple\u001b[39m):\n\u001b[1;32m    564\u001b[0m     \u001b[38;5;28mself\u001b[39m\u001b[38;5;241m.\u001b[39m_libver \u001b[38;5;241m=\u001b[39m libver\n",
      "File \u001b[0;32m/beegfs/scratch/ric.broccoli/kubacki.michal/conda_envs/snakemake/lib/python3.11/site-packages/h5py/_hl/files.py:235\u001b[0m, in \u001b[0;36mmake_fid\u001b[0;34m(name, mode, userblock_size, fapl, fcpl, swmr)\u001b[0m\n\u001b[1;32m    233\u001b[0m     \u001b[38;5;28;01mif\u001b[39;00m swmr \u001b[38;5;129;01mand\u001b[39;00m swmr_support:\n\u001b[1;32m    234\u001b[0m         flags \u001b[38;5;241m|\u001b[39m\u001b[38;5;241m=\u001b[39m h5f\u001b[38;5;241m.\u001b[39mACC_SWMR_READ\n\u001b[0;32m--> 235\u001b[0m     fid \u001b[38;5;241m=\u001b[39m \u001b[43mh5f\u001b[49m\u001b[38;5;241;43m.\u001b[39;49m\u001b[43mopen\u001b[49m\u001b[43m(\u001b[49m\u001b[43mname\u001b[49m\u001b[43m,\u001b[49m\u001b[43m \u001b[49m\u001b[43mflags\u001b[49m\u001b[43m,\u001b[49m\u001b[43m \u001b[49m\u001b[43mfapl\u001b[49m\u001b[38;5;241;43m=\u001b[39;49m\u001b[43mfapl\u001b[49m\u001b[43m)\u001b[49m\n\u001b[1;32m    236\u001b[0m \u001b[38;5;28;01melif\u001b[39;00m mode \u001b[38;5;241m==\u001b[39m \u001b[38;5;124m'\u001b[39m\u001b[38;5;124mr+\u001b[39m\u001b[38;5;124m'\u001b[39m:\n\u001b[1;32m    237\u001b[0m     fid \u001b[38;5;241m=\u001b[39m h5f\u001b[38;5;241m.\u001b[39mopen(name, h5f\u001b[38;5;241m.\u001b[39mACC_RDWR, fapl\u001b[38;5;241m=\u001b[39mfapl)\n",
      "File \u001b[0;32mh5py/_objects.pyx:54\u001b[0m, in \u001b[0;36mh5py._objects.with_phil.wrapper\u001b[0;34m()\u001b[0m\n",
      "File \u001b[0;32mh5py/_objects.pyx:55\u001b[0m, in \u001b[0;36mh5py._objects.with_phil.wrapper\u001b[0;34m()\u001b[0m\n",
      "File \u001b[0;32mh5py/h5f.pyx:102\u001b[0m, in \u001b[0;36mh5py.h5f.open\u001b[0;34m()\u001b[0m\n",
      "\u001b[0;31mFileNotFoundError\u001b[0m: [Errno 2] Unable to synchronously open file (unable to open file: name = '/beegfs/scratch/ric.broccoli/kubacki.michal/SRF_Linda_RNA/post_analysis/results/cellranger_counts_R26_Emx1_Mut_adult_1/adata.h5ad', errno = 2, error message = 'No such file or directory', flags = 0, o_flags = 0)"
     ]
    }
   ],
   "source": [
    "# DATA dirs\n",
    "base_path = \"/beegfs/scratch/ric.broccoli/kubacki.michal/SRF_Linda_RNA/post_analysis/results/cellranger_counts_R26_\"\n",
    "adata_paths = {\n",
    "    \"Emx1_Ctrl\": f\"{base_path}Emx1_Ctrl_adult_0/adata.h5ad\",\n",
    "    \"Emx1_Mut\": f\"{base_path}Emx1_Mut_adult_1/adata.h5ad\",\n",
    "    \"Nestin_Ctrl\": f\"{base_path}Nestin_Ctrl_adult_2/adata.h5ad\",\n",
    "    \"Nestin_Mut\": f\"{base_path}Nestin_Mut_adult_3/adata.h5ad\"\n",
    "}\n",
    "\n",
    "# Load AnnData objects into a dictionary\n",
    "adata_dict = {}\n",
    "for key, path in adata_paths.items():\n",
    "    print(f\"Loading AnnData from {path}\")\n",
    "    adata_dict[key] = sc.read_h5ad(path)\n",
    "    print(f\"AnnData object {key} contains {adata_dict[key].n_obs} cells and {adata_dict[key].n_vars} genes\")"
   ]
  },
  {
   "cell_type": "markdown",
   "metadata": {},
   "source": [
    "# Check Biomarkers"
   ]
  },
  {
   "cell_type": "code",
   "execution_count": null,
   "metadata": {},
   "outputs": [],
   "source": [
    "# Plot marker genes\n",
    "markers = get_mouse_brain_markers()\n",
    "sal_sample = \"Emx1_Ctrl\"\n",
    "sel_cell_types = [\"Layer_2_3\", \"Inhibitory_neurons\"]\n",
    "adata = adata_dict[sal_sample]\n",
    "\n",
    "if markers:\n",
    "    for cell_type in sel_cell_types:\n",
    "        # Find genes that exist in the dataset\n",
    "        valid_genes = [gene for gene in markers[cell_type] if gene in adata.var_names]\n",
    "        if valid_genes:\n",
    "            all_genes_to_plot.extend([(gene, cell_type) for gene in valid_genes[:3]])\n",
    "\n",
    "    # Calculate the number of rows needed for the grid\n",
    "    n_genes = len(all_genes_to_plot)\n",
    "    n_cols = 4\n",
    "    n_rows = (n_genes + n_cols - 1) // n_cols  # Calculate number of rows needed\n",
    "\n",
    "    # Create a figure and a grid of subplots\n",
    "    fig, axes = plt.subplots(n_rows, n_cols, figsize=(12*n_cols, 10*n_rows), dpi=80)\n",
    "    axes = axes.flatten()  # Flatten the axes array for easy indexing\n",
    "\n",
    "    # Plot each marker gene in its own subplot\n",
    "    for i, (gene, cell_type) in enumerate(all_genes_to_plot):\n",
    "        try:\n",
    "            ax = axes[i]  # Select the subplot\n",
    "            sc.pl.umap(adata, color=gene, ax=ax, \n",
    "                        title=f\"{gene} ({cell_type})\", cmap='Reds', show=False,\n",
    "                        size=150)  # Increase data point size\n",
    "            ax.set_xlabel(\"UMAP1\", fontsize=20)  # Increase axis label size\n",
    "            ax.set_ylabel(\"UMAP2\", fontsize=20)  # Increase axis label size\n",
    "            ax.tick_params(axis='both', which='major', labelsize=18)  # Increase tick label size\n",
    "            ax.set_title(f\"{gene} ({cell_type})\", fontsize=26) # Increase title size\n",
    "            \n",
    "        except Exception as e:\n",
    "            print(f\"Error plotting marker gene {gene}: {e}\")\n",
    "\n",
    "    # Remove any unused subplots\n",
    "    for i in range(n_genes, len(axes)):\n",
    "        fig.delaxes(axes[i])\n",
    "\n",
    "    plt.tight_layout()\n",
    "    plt.show()"
   ]
  }
 ],
 "metadata": {
  "kernelspec": {
   "display_name": "Python (snakemake)",
   "language": "python",
   "name": "snakemake"
  },
  "language_info": {
   "codemirror_mode": {
    "name": "ipython",
    "version": 3
   },
   "file_extension": ".py",
   "mimetype": "text/x-python",
   "name": "python",
   "nbconvert_exporter": "python",
   "pygments_lexer": "ipython3",
   "version": "3.11.9"
  }
 },
 "nbformat": 4,
 "nbformat_minor": 2
}
