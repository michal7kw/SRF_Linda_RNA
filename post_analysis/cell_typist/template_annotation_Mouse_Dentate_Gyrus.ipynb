{
  "cells": [
    {
      "cell_type": "code",
      "metadata": {},
      "source": [
        "# %% [markdown]\n",
        "# # Environment"
      ],
      "outputs": [],
      "execution_count": null
    },
    {
      "cell_type": "code",
      "metadata": {},
      "source": [
        "import scanpy as sc\n",
        "import numpy as np\n",
        "import pandas as pd\n",
        "import matplotlib.pyplot as plt\n",
        "import os\n",
        "import sys\n",
        "import anndata as ad\n",
        "import warnings\n",
        "from celltypist import models, annotate"
      ],
      "outputs": [],
      "execution_count": null
    },
    {
      "cell_type": "code",
      "metadata": {},
      "source": [
        "os.chdir(\"/beegfs/scratch/ric.broccoli/kubacki.michal/SRF_Linda_RNA/post_analysis/cell_typist\")"
      ],
      "outputs": [],
      "execution_count": null
    },
    {
      "cell_type": "code",
      "metadata": {},
      "source": [
        "# This cell will be parameterized by the script\n",
        "sel_model = \"MODEL_PLACEHOLDER\"  # This will be replaced with the actual model name\n",
        "sel_sample = \"SAMPLE_PLACEHOLDER\"  # This will be replaced with the actual sample name\n",
        "print(f\"Processing model: {sel_model}, sample: {sel_sample}\")\n",
        "\n",
        "leiden_res_dict = {\n",
        "    \"Emx1_Ctrl\": [0.38, 0.3, 0.05],\n",
        "    \"Emx1_Mut\": [0.47, 0.38, 0.3],\n",
        "    \"Nestin_Ctrl\": [0.05, 0.13, 0.47],\n",
        "    \"Nestin_Mut\": [0.47, 0.3, 0.63]\n",
        "}\n",
        "\n",
        "leiden_res = leiden_res_dict[sel_sample]"
      ],
      "outputs": [],
      "execution_count": null
    },
    {
      "cell_type": "code",
      "metadata": {},
      "source": [
        "# Specific mouse brain models available in CellTypist\n",
        "# https://www.celltypist.org/models\n",
        "MOUSE_HIPPOCAMPUS_MODELS = {\n",
        "    \"Mouse_Isocortex_Hippocampus\": {\n",
        "        \"description\": \"Cell types from the adult mouse isocortex (neocortex) and hippocampal formation\",\n",
        "        \"cell_types\": 42,\n",
        "        \"version\": \"v1\",\n",
        "        \"reference\": \"https://doi.org/10.1016/j.cell.2021.04.021\"\n",
        "    },\n",
        "    \"Mouse_Dentate_Gyrus\": {\n",
        "        \"description\": \"Cell types from the dentate gyrus in perinatal, juvenile, and adult mice\",\n",
        "        \"cell_types\": 24,\n",
        "        \"version\": \"v1\",\n",
        "        \"reference\": \"https://doi.org/10.1038/s41593-017-0056-2\"\n",
        "    }\n",
        "}"
      ],
      "outputs": [],
      "execution_count": null
    },
    {
      "cell_type": "code",
      "metadata": {},
      "source": [
        "# Set up directories\n",
        "results_dir = f\"results_{sel_model}\"\n",
        "model_dir = \"models\"\n",
        "os.makedirs(results_dir, exist_ok=True)\n",
        "os.makedirs(model_dir, exist_ok=True)"
      ],
      "outputs": [],
      "execution_count": null
    },
    {
      "cell_type": "code",
      "metadata": {},
      "source": [
        "# DATA dirs\n",
        "base_path = \"/beegfs/scratch/ric.broccoli/kubacki.michal/SRF_Linda_RNA/post_analysis\"\n",
        "outputs_folder = \"individual_data_analysis_opt_clusters\"\n",
        "folder_prefix = \"cellranger_counts_R26_\"\n",
        "data_dir = os.path.join(base_path, outputs_folder, folder_prefix)\n",
        "\n",
        "adata_paths = {\n",
        "    \"Emx1_Ctrl\": f\"{data_dir}Emx1_Ctrl_adult_0/Emx1_Ctrl_processed.h5ad\",\n",
        "    \"Emx1_Mut\": f\"{data_dir}Emx1_Mut_adult_1/Emx1_Mut_processed.h5ad\",\n",
        "    \"Nestin_Ctrl\": f\"{data_dir}Nestin_Ctrl_adult_2/Nestin_Ctrl_processed.h5ad\",\n",
        "    \"Nestin_Mut\": f\"{data_dir}Nestin_Mut_adult_3/Nestin_Mut_processed.h5ad\"\n",
        "}"
      ],
      "outputs": [],
      "execution_count": null
    },
    {
      "cell_type": "code",
      "metadata": {},
      "source": [
        "adata_path = adata_paths[sel_sample]\n",
        "model_path = f\"models/{sel_model}.pkl\"\n",
        "\n",
        "# %% [markdown]\n",
        "# # Load Data"
      ],
      "outputs": [],
      "execution_count": null
    },
    {
      "cell_type": "code",
      "metadata": {},
      "source": [
        "if adata_path:\n",
        "    print(f\"Loading AnnData from {adata_path}\")\n",
        "    adata = sc.read_h5ad(adata_path)\n",
        "else:\n",
        "    # Try to use a global adata object\n",
        "    try:\n",
        "        adata = globals()['adata']\n",
        "        print(\"Using already loaded AnnData object\")\n",
        "    except KeyError:\n",
        "        print(\"No AnnData object provided. Please provide a path to an .h5ad file.\")\n",
        "\n",
        "print(f\"AnnData object contains {adata.n_obs} cells and {adata.n_vars} genes\")"
      ],
      "outputs": [],
      "execution_count": null
    },
    {
      "cell_type": "code",
      "metadata": {},
      "source": [
        "model = models.Model.load(model_path)\n",
        "\n",
        "# %% [markdown]\n",
        "# # Explore cell annotation model"
      ],
      "outputs": [],
      "execution_count": null
    },
    {
      "cell_type": "code",
      "metadata": {},
      "source": [
        "print(type(model))\n",
        "print(model.__dict__.keys())\n",
        "print(model.description)\n",
        "print(f\"Model: {os.path.basename(model_path)}\")\n",
        "print(f\"Number of cell types: {len(model.cell_types)}\")"
      ],
      "outputs": [],
      "execution_count": null
    },
    {
      "cell_type": "code",
      "metadata": {},
      "source": [
        "# Inspect all available attributes and methods of the model object\n",
        "print(\"Available attributes and methods:\")\n",
        "for attr in dir(model):\n",
        "    if not attr.startswith('__'):  # Skip dunder methods\n",
        "        attr_type = type(getattr(model, attr))\n",
        "        print(f\"  - {attr}: {attr_type}\")"
      ],
      "outputs": [],
      "execution_count": null
    },
    {
      "cell_type": "code",
      "metadata": {},
      "source": [
        "# Display original array for reference\n",
        "model.cell_types"
      ],
      "outputs": [],
      "execution_count": null
    },
    {
      "cell_type": "code",
      "metadata": {},
      "source": [
        "print(\"\\nCell types:\")\n",
        "for i, cell_type in enumerate(model.cell_types):\n",
        "    print(f\"  {i+1}. {cell_type}\")"
      ],
      "outputs": [],
      "execution_count": null
    },
    {
      "cell_type": "code",
      "metadata": {},
      "source": [
        "# Extract some key marker genes\n",
        "print(\"\\nExtracting markers for key cell types...\")\n",
        "for cell_type in model.cell_types:\n",
        "    markers = model.extract_top_markers(cell_type, 5)\n",
        "    print(f\"\\nTop 5 markers for {cell_type}:\")\n",
        "    for marker in markers:\n",
        "        print(f\"  - {marker}\")\n",
        "\n",
        "\n",
        "# %% [markdown]\n",
        "# # Annotate data"
      ],
      "outputs": [],
      "execution_count": null
    },
    {
      "cell_type": "code",
      "metadata": {},
      "source": [
        "non_zero_index = adata.raw.X[0].indices[0] if len(adata.raw.X[0].indices) > 0 else 0\n",
        "print(adata.raw.X[0,12])\n",
        "print(adata.X[0,12])"
      ],
      "outputs": [],
      "execution_count": null
    },
    {
      "cell_type": "code",
      "metadata": {},
      "source": [
        "adata.layers"
      ],
      "outputs": [],
      "execution_count": null
    },
    {
      "cell_type": "code",
      "metadata": {},
      "source": [
        "adata_norm = adata.copy()"
      ],
      "outputs": [],
      "execution_count": null
    },
    {
      "cell_type": "code",
      "metadata": {},
      "source": [
        "adata_norm.X = adata.layers['for_cell_typist']"
      ],
      "outputs": [],
      "execution_count": null
    },
    {
      "cell_type": "code",
      "metadata": {},
      "source": [
        "# Quick check that normalization worked correctly\n",
        "counts_after_norm = np.expm1(adata_norm.X).sum(axis=1)\n",
        "print(np.mean(counts_after_norm))\n",
        "\n",
        "# Basic QC check\n",
        "if np.mean(counts_after_norm) < 9000 or np.mean(counts_after_norm) > 11000:\n",
        "    warnings.warn(\"Normalization may not have worked as expected. Check your data.\")"
      ],
      "outputs": [],
      "execution_count": null
    },
    {
      "cell_type": "code",
      "metadata": {},
      "source": [
        "majority_voting = True\n",
        "prob_threshold = 0.5\n",
        "print(f\"Running CellTypist with majority_voting={majority_voting}, prob_threshold={prob_threshold}\")\n",
        "predictions = annotate(\n",
        "    adata_norm, \n",
        "    model=model_path,\n",
        "    majority_voting=majority_voting,\n",
        "    mode='prob match',  # Use probability-based matching for multi-label classification\n",
        "    p_thres=prob_threshold\n",
        ")"
      ],
      "outputs": [],
      "execution_count": null
    },
    {
      "cell_type": "code",
      "metadata": {},
      "source": [
        "# Add annotations to original adata\n",
        "predictions.to_adata(adata_norm)"
      ],
      "outputs": [],
      "execution_count": null
    },
    {
      "cell_type": "code",
      "metadata": {},
      "source": [
        "# Also add probability scores for key cell types\n",
        "predictions.to_adata(adata_norm, insert_prob=True, prefix='prob_')"
      ],
      "outputs": [],
      "execution_count": null
    },
    {
      "cell_type": "code",
      "metadata": {},
      "source": [
        "if 'X_umap' not in adata_norm.obsm:\n",
        "    try:\n",
        "        # Calculate neighborhood graph if not present\n",
        "        if 'neighbors' not in adata_norm.uns:\n",
        "            sc.pp.neighbors(adata_norm)\n",
        "        sc.tl.umap(adata_norm)\n",
        "    except Exception as e:\n",
        "        print(f\"Could not calculate UMAP: {e}\")\n",
        "        if 'X_pca' not in adata_norm.obsm:\n",
        "            sc.pp.pca(adata_norm)\n",
        "\n",
        "# %% [markdown]\n",
        "# # Inspect results"
      ],
      "outputs": [],
      "execution_count": null
    },
    {
      "cell_type": "code",
      "metadata": {},
      "source": [
        "adata_norm.obs.columns"
      ],
      "outputs": [],
      "execution_count": null
    },
    {
      "cell_type": "code",
      "metadata": {},
      "source": [
        "# Cell type annotation plot\n",
        "if 'majority_voting' in adata_norm.obs.columns:\n",
        "    fig, ax = plt.subplots(figsize=(12, 10))\n",
        "    sc.pl.umap(adata_norm, color='majority_voting', ax=ax, legend_loc='right margin', \n",
        "                title=f\"Cell Type Annotation ({sel_model}, {sel_sample})\")\n",
        "    plt.tight_layout()\n",
        "    output_file = os.path.join(results_dir, f\"{sel_sample}_celltypes.png\")\n",
        "    fig.savefig(output_file, dpi=150)\n",
        "    print(f\"Saved cell type plot to {output_file}\")\n",
        "    display(fig)\n",
        "    plt.close(fig)"
      ],
      "outputs": [],
      "execution_count": null
    },
    {
      "cell_type": "code",
      "metadata": {},
      "source": [
        "# Confidence score plot\n",
        "if 'conf_score' in adata_norm.obs.columns:\n",
        "    fig, ax = plt.subplots(figsize=(12, 10))\n",
        "    sc.pl.umap(adata_norm, color='conf_score', ax=ax, \n",
        "                title=f\"Annotation Confidence Score ({sel_model}, {sel_sample})\", cmap='viridis')\n",
        "    plt.tight_layout()\n",
        "    output_file = os.path.join(results_dir, f\"{sel_sample}_confidence.png\")\n",
        "    fig.savefig(output_file, dpi=150)\n",
        "    print(f\"Saved confidence score plot to {output_file}\")\n",
        "    display(fig)\n",
        "    plt.close(fig)"
      ],
      "outputs": [],
      "execution_count": null
    },
    {
      "cell_type": "code",
      "metadata": {},
      "source": [
        "# Save the annotated adata\n",
        "output_file = os.path.join(results_dir, f\"{sel_sample}_annotated.h5ad\")\n",
        "adata_norm.write(output_file)\n",
        "print(f\"Saved annotated data to {output_file}\")"
      ],
      "outputs": [],
      "execution_count": null
    },
    {
      "cell_type": "code",
      "metadata": {},
      "source": [
        "# Generate a summary table of cell type annotations\n",
        "cell_type_counts = adata_norm.obs['majority_voting'].value_counts()\n",
        "cell_type_df = pd.DataFrame({\n",
        "    'cell_type': cell_type_counts.index,\n",
        "    'cell_count': cell_type_counts.values,\n",
        "    'percentage': (cell_type_counts.values / cell_type_counts.sum() * 100).round(2)\n",
        "})\n",
        "cell_type_df = cell_type_df.sort_values('cell_count', ascending=False).reset_index(drop=True)\n",
        "\n",
        "print(f\"\\nSummary of cell types for {sel_sample} using {sel_model} model:\")\n",
        "display(cell_type_df)"
      ],
      "outputs": [],
      "execution_count": null
    },
    {
      "cell_type": "code",
      "metadata": {},
      "source": [
        "# Save summary to CSV\n",
        "summary_file = os.path.join(results_dir, f\"{sel_sample}_cell_type_summary.csv\")\n",
        "cell_type_df.to_csv(summary_file, index=False)\n",
        "print(f\"Saved cell type summary to {summary_file}\")"
      ],
      "outputs": [],
      "execution_count": null
    },
    {
      "cell_type": "code",
      "metadata": {},
      "source": [
        "print(f\"\\n{'='*50}\")\n",
        "print(f\"CELLTYPIST ANALYSIS COMPLETED\")\n",
        "print(f\"{'='*50}\")\n",
        "print(f\"Sample: {sel_sample}\")\n",
        "print(f\"Model: {sel_model}\")\n",
        "print(f\"Number of cells: {adata_norm.n_obs}\")\n",
        "print(f\"Number of cell types identified: {len(cell_type_counts)}\")\n",
        "print(f\"Results saved to: {os.path.abspath(results_dir)}\")\n",
        "print(f\"{'='*50}\")\n",
        "\n",
        "\n"
      ],
      "outputs": [],
      "execution_count": null
    }
  ],
  "metadata": {
    "anaconda-cloud": {},
    "kernelspec": {
      "display_name": "Python 3",
      "language": "python",
      "name": "python3"
    },
    "language_info": {
      "codemirror_mode": {
        "name": "ipython",
        "version": 3
      },
      "file_extension": ".py",
      "mimetype": "text/x-python",
      "name": "python",
      "nbconvert_exporter": "python",
      "pygments_lexer": "ipython3",
      "version": "3.6.1"
    }
  },
  "nbformat": 4,
  "nbformat_minor": 4
}