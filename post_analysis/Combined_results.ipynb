{
 "cells": [
  {
   "cell_type": "code",
   "execution_count": null,
   "metadata": {},
   "outputs": [],
   "source": [
    "# Import libraries\n",
    "import scanpy as sc\n",
    "import pandas as pd\n",
    "import numpy as np\n",
    "import matplotlib.pyplot as plt\n",
    "import seaborn as sns\n",
    "import os\n",
    "\n",
    "# Set plotting settings\n",
    "sc.settings.verbosity = 3\n",
    "sc.settings.set_figure_params(dpi=100, frameon=False)\n",
    "\n",
    "BASE_DIR = \"/beegfs/scratch/ric.broccoli/kubacki.michal/SRF_Linda_RNA\""
   ]
  },
  {
   "cell_type": "code",
   "execution_count": null,
   "metadata": {},
   "outputs": [],
   "source": [
    "samples = {\n",
    "    \"Emx1_Ctrl\": \"cellranger_counts_R26_Emx1_Ctrl_adult_0\",\n",
    "    \"Emx1_Mut\": \"cellranger_counts_R26_Emx1_Mut_adult_1\",\n",
    "    \"Nestin_Ctrl\": \"cellranger_counts_R26_Nestin_Ctrl_adult_2\",\n",
    "    \"Nestin_Mut\": \"cellranger_counts_R26_Nestin_Mut_adult_3\"\n",
    "    }"
   ]
  },
  {
   "cell_type": "code",
   "execution_count": null,
   "metadata": {},
   "outputs": [],
   "source": [
    "samples_data = {}\n",
    "\n",
    "for key, sample in samples.items():\n",
    "    samples_data[key] = sc.read_h5ad(os.path.join(BASE_DIR, sample, f\"R26_{key}_adult_processed.h5ad\"))\n",
    "    print(key, sample)\n",
    "\n",
    "# Load the processed data for Nestin_Mut\n",
    "nestin_mut_path = os.path.join(BASE_DIR, \"R26_Nestin_Mut_adult_processed.h5ad\")\n",
    "nestin_mut_data = sc.read_h5ad(nestin_mut_path)\n"
   ]
  }
 ],
 "metadata": {
  "kernelspec": {
   "display_name": "Python (snakemake)",
   "language": "python",
   "name": "snakemake"
  }
 },
 "nbformat": 4,
 "nbformat_minor": 2
}
